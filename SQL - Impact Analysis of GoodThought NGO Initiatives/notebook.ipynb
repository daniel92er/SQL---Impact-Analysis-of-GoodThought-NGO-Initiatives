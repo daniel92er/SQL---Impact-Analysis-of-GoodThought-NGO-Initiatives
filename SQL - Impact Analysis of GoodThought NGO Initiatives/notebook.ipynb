{
 "cells": [
  {
   "cell_type": "markdown",
   "id": "32803968-253d-4647-9262-8be3fa184271",
   "metadata": {},
   "source": [
    "![ngo_project_image](ngo_project_image.jpg)\n",
    "\n",
    "GoodThought NGO has been a catalyst for positive change, focusing its efforts on education, healthcare, and sustainable development to make a significant difference in communities worldwide. With this mission, GoodThought has orchestrated an array of assignments aimed at uplifting underprivileged populations and fostering long-term growth.\n",
    "\n",
    "This project offers a hands-on opportunity to explore how data-driven insights can direct and enhance these humanitarian efforts. In this project, you'll engage with the GoodThought PostgreSQL database, which encapsulates detailed records of assignments, funding, impacts, and donor activities from 2010 to 2023. This comprehensive dataset includes:\n",
    "\n",
    "- **`Assignments`:** Details about each project, including its name, duration (start and end dates), budget, geographical region, and the impact score.\n",
    "- **`Donations`:** Records of financial contributions, linked to specific donors and assignments, highlighting how financial support is allocated and utilized.\n",
    "- **`Donors`:** Information on individuals and organizations that fund GoodThought’s projects, including donor types.\n",
    "\n",
    "Refer to the below ERD diagram for a visual representation of the relationships between these data tables:\n",
    "<img src=\"erd.png\" alt=\"ERD\" width=\"50%\" height=\"50%\">\n",
    "\n",
    "\n",
    "You will execute SQL queries to answer two questions, as listed in the instructions. Good luck!\n"
   ]
  },
  {
   "cell_type": "markdown",
   "id": "b8c7283f-84e4-4bb2-9aae-e60e87c681ca",
   "metadata": {},
   "source": [
    "#### List the top five assignments based on total value of donations, categorized by donor type. The output should include four columns: 1) assignment_name, 2) region, 3) rounded_total_donation_amount rounded to two decimal places, and 4) donor_type, sorted by rounded_total_donation_amount in descending order."
   ]
  },
  {
   "cell_type": "code",
   "execution_count": 49,
   "id": "b9c29e39-7d27-4a41-b9f6-553eb2881519",
   "metadata": {
    "customType": "sql",
    "dataFrameVariableName": "highest_donation_assignments",
    "executionCancelledAt": null,
    "executionTime": null,
    "lastExecutedAt": null,
    "lastExecutedByKernel": null,
    "lastScheduledRunId": null,
    "lastSuccessfullyExecutedCode": null,
    "outputsMetadata": {
     "0": {
      "height": 550,
      "tableState": {
       "customFilter": {
        "const": {
         "type": "boolean",
         "valid": true,
         "value": true
        },
        "id": "2a10ba1b-09ed-4a57-8514-599bee1b5c25",
        "nodeType": "const"
       },
       "quickFilterText": ""
      },
      "type": "dataFrame"
     }
    },
    "sqlCellMode": "dataFrame",
    "sqlSource": {
     "integrationId": "89e17161-a224-4a8a-846b-0adc0fe7a4b1",
     "integrationType": "postgresql",
     "type": "integration"
    }
   },
   "outputs": [
    {
     "@datacamp/metadata": {
      "executedQuery": "-- highest_donation_assignments\n\nWITH first_grouping AS (\nSELECT region,\n\tassignment_name,\n\tdonor_type,\n\tROUND(SUM(amount), 2) AS rounded_total_donation_amount\nFROM assignments a\nINNER JOIN donations d1\nUSING(assignment_id)\nINNER JOIN donors d2\nUSING(donor_id)\nGROUP BY region, assignment_name, donor_type\nORDER BY assignment_name\n)\nSELECT \n\tassignment_name,\n\tregion,\n\trounded_total_donation_amount,\n\tdonor_type\nFROM first_grouping\nORDER BY rounded_total_donation_amount DESC\nLIMIT 5;",
      "executedQueryParameters": []
     },
     "data": {
      "application/com.datacamp.data-table.v2+json": {
       "table": {
        "data": {
         "assignment_name": [
          "Assignment_3033",
          "Assignment_300",
          "Assignment_4114",
          "Assignment_1765",
          "Assignment_268"
         ],
         "donor_type": [
          "Individual",
          "Organization",
          "Organization",
          "Organization",
          "Individual"
         ],
         "index": [
          0,
          1,
          2,
          3,
          4
         ],
         "region": [
          "East",
          "West",
          "North",
          "West",
          "East"
         ],
         "rounded_total_donation_amount": [
          3840.66,
          3133.98,
          2778.57,
          2626.98,
          2488.69
         ]
        },
        "schema": {
         "fields": [
          {
           "name": "index",
           "type": "integer"
          },
          {
           "name": "assignment_name",
           "type": "string"
          },
          {
           "name": "region",
           "type": "string"
          },
          {
           "name": "rounded_total_donation_amount",
           "type": "number"
          },
          {
           "name": "donor_type",
           "type": "string"
          }
         ],
         "pandas_version": "1.4.0",
         "primaryKey": [
          "index"
         ]
        }
       },
       "total_rows": 5,
       "truncation_type": null
      },
      "text/html": [
       "<div>\n",
       "<style scoped>\n",
       "    .dataframe tbody tr th:only-of-type {\n",
       "        vertical-align: middle;\n",
       "    }\n",
       "\n",
       "    .dataframe tbody tr th {\n",
       "        vertical-align: top;\n",
       "    }\n",
       "\n",
       "    .dataframe thead th {\n",
       "        text-align: right;\n",
       "    }\n",
       "</style>\n",
       "<table border=\"1\" class=\"dataframe\">\n",
       "  <thead>\n",
       "    <tr style=\"text-align: right;\">\n",
       "      <th></th>\n",
       "      <th>assignment_name</th>\n",
       "      <th>region</th>\n",
       "      <th>rounded_total_donation_amount</th>\n",
       "      <th>donor_type</th>\n",
       "    </tr>\n",
       "  </thead>\n",
       "  <tbody>\n",
       "    <tr>\n",
       "      <th>0</th>\n",
       "      <td>Assignment_3033</td>\n",
       "      <td>East</td>\n",
       "      <td>3840.66</td>\n",
       "      <td>Individual</td>\n",
       "    </tr>\n",
       "    <tr>\n",
       "      <th>1</th>\n",
       "      <td>Assignment_300</td>\n",
       "      <td>West</td>\n",
       "      <td>3133.98</td>\n",
       "      <td>Organization</td>\n",
       "    </tr>\n",
       "    <tr>\n",
       "      <th>2</th>\n",
       "      <td>Assignment_4114</td>\n",
       "      <td>North</td>\n",
       "      <td>2778.57</td>\n",
       "      <td>Organization</td>\n",
       "    </tr>\n",
       "    <tr>\n",
       "      <th>3</th>\n",
       "      <td>Assignment_1765</td>\n",
       "      <td>West</td>\n",
       "      <td>2626.98</td>\n",
       "      <td>Organization</td>\n",
       "    </tr>\n",
       "    <tr>\n",
       "      <th>4</th>\n",
       "      <td>Assignment_268</td>\n",
       "      <td>East</td>\n",
       "      <td>2488.69</td>\n",
       "      <td>Individual</td>\n",
       "    </tr>\n",
       "  </tbody>\n",
       "</table>\n",
       "</div>"
      ],
      "text/plain": [
       "   assignment_name region  rounded_total_donation_amount    donor_type\n",
       "0  Assignment_3033   East                        3840.66    Individual\n",
       "1   Assignment_300   West                        3133.98  Organization\n",
       "2  Assignment_4114  North                        2778.57  Organization\n",
       "3  Assignment_1765   West                        2626.98  Organization\n",
       "4   Assignment_268   East                        2488.69    Individual"
      ]
     },
     "execution_count": 49,
     "metadata": {},
     "output_type": "execute_result"
    }
   ],
   "source": [
    "-- highest_donation_assignments\n",
    "\n",
    "WITH first_grouping AS (\n",
    "SELECT region,\n",
    "\tassignment_name,\n",
    "\tdonor_type,\n",
    "\tROUND(SUM(amount), 2) AS rounded_total_donation_amount\n",
    "FROM assignments a\n",
    "INNER JOIN donations d1\n",
    "USING(assignment_id)\n",
    "INNER JOIN donors d2\n",
    "USING(donor_id)\n",
    "GROUP BY region, assignment_name, donor_type\n",
    "ORDER BY assignment_name\n",
    ")\n",
    "SELECT \n",
    "\tassignment_name,\n",
    "\tregion,\n",
    "\trounded_total_donation_amount,\n",
    "\tdonor_type\n",
    "FROM first_grouping\n",
    "ORDER BY rounded_total_donation_amount DESC\n",
    "LIMIT 5;"
   ]
  },
  {
   "cell_type": "markdown",
   "id": "6d49a16f-dd65-48d8-b6df-034df064ef04",
   "metadata": {},
   "source": [
    "#### Identify the assignment with the highest impact score in each region, ensuring that each listed assignment has received at least one donation. The output should include four columns: 1) assignment_name, 2) region, 3) impact_score, and 4) num_total_donations, sorted by region in ascending order. Include only the highest-scoring assignment per region, avoiding duplicates within the same region."
   ]
  },
  {
   "cell_type": "code",
   "execution_count": 47,
   "id": "d7420b3e-1693-496e-985f-da4bf9d6c9ae",
   "metadata": {
    "customType": "sql",
    "dataFrameVariableName": "top_regional_impact_assignments",
    "executionCancelledAt": null,
    "executionTime": 1151,
    "lastExecutedAt": 1734594284237,
    "lastExecutedByKernel": "16b6bf4d-02f0-41da-af5a-5ede6278724b",
    "lastScheduledRunId": null,
    "lastSuccessfullyExecutedCode": "-- top_regional_impact_assignments\nWITH counting AS (\nSELECT \n\tassignment_name,\n\tregion,\n\tCOUNT(donation_id) AS num_total_donations\nFROM assignments a\nINNER JOIN donations d\nUSING(assignment_id)\nGROUP BY region, assignment_name\n),\nranking AS (\nSELECT \n\tassignment_name,\n\ta.region,\n\timpact_score,\n\tnum_total_donations,\n\tROW_NUMBER() OVER(PARTITION BY a.region ORDER BY impact_score DESC) AS don_rank\nFROM assignments a\nINNER JOIN counting c\nUSING(assignment_name)\nWHERE num_total_donations >= 1\n)\n\nSELECT \n\tassignment_name,\n\tregion,\n\timpact_score,\n\tnum_total_donations\nFROM ranking\nWHERE don_rank = 1\n;\n",
    "outputsMetadata": {
     "0": {
      "height": 550,
      "tableState": {
       "customFilter": {
        "const": {
         "type": "boolean",
         "valid": true,
         "value": true
        },
        "id": "2a10ba1b-09ed-4a57-8514-599bee1b5c25",
        "nodeType": "const"
       },
       "quickFilterText": ""
      },
      "type": "dataFrame"
     }
    },
    "sqlCellMode": "dataFrame",
    "sqlSource": {
     "integrationId": "89e17161-a224-4a8a-846b-0adc0fe7a4b1",
     "integrationType": "postgresql",
     "type": "integration"
    }
   },
   "outputs": [
    {
     "@datacamp/metadata": {
      "executedQuery": "-- top_regional_impact_assignments\nWITH counting AS (\nSELECT \n\tassignment_name,\n\tregion,\n\tCOUNT(donation_id) AS num_total_donations\nFROM assignments a\nINNER JOIN donations d\nUSING(assignment_id)\nGROUP BY region, assignment_name\n),\nranking AS (\nSELECT \n\tassignment_name,\n\ta.region,\n\timpact_score,\n\tnum_total_donations,\n\tROW_NUMBER() OVER(PARTITION BY a.region ORDER BY impact_score DESC) AS don_rank\nFROM assignments a\nINNER JOIN counting c\nUSING(assignment_name)\nWHERE num_total_donations >= 1\n)\n\nSELECT \n\tassignment_name,\n\tregion,\n\timpact_score,\n\tnum_total_donations\nFROM ranking\nWHERE don_rank = 1\n;",
      "executedQueryParameters": []
     },
     "data": {
      "application/com.datacamp.data-table.v2+json": {
       "table": {
        "data": {
         "assignment_name": [
          "Assignment_316",
          "Assignment_2253",
          "Assignment_3547",
          "Assignment_2794"
         ],
         "impact_score": [
          10,
          9.99,
          10,
          9.99
         ],
         "index": [
          0,
          1,
          2,
          3
         ],
         "num_total_donations": [
          2,
          1,
          1,
          2
         ],
         "region": [
          "East",
          "North",
          "South",
          "West"
         ]
        },
        "schema": {
         "fields": [
          {
           "name": "index",
           "type": "integer"
          },
          {
           "name": "assignment_name",
           "type": "string"
          },
          {
           "name": "region",
           "type": "string"
          },
          {
           "name": "impact_score",
           "type": "number"
          },
          {
           "name": "num_total_donations",
           "type": "integer"
          }
         ],
         "pandas_version": "1.4.0",
         "primaryKey": [
          "index"
         ]
        }
       },
       "total_rows": 4,
       "truncation_type": null
      },
      "text/html": [
       "<div>\n",
       "<style scoped>\n",
       "    .dataframe tbody tr th:only-of-type {\n",
       "        vertical-align: middle;\n",
       "    }\n",
       "\n",
       "    .dataframe tbody tr th {\n",
       "        vertical-align: top;\n",
       "    }\n",
       "\n",
       "    .dataframe thead th {\n",
       "        text-align: right;\n",
       "    }\n",
       "</style>\n",
       "<table border=\"1\" class=\"dataframe\">\n",
       "  <thead>\n",
       "    <tr style=\"text-align: right;\">\n",
       "      <th></th>\n",
       "      <th>assignment_name</th>\n",
       "      <th>region</th>\n",
       "      <th>impact_score</th>\n",
       "      <th>num_total_donations</th>\n",
       "    </tr>\n",
       "  </thead>\n",
       "  <tbody>\n",
       "    <tr>\n",
       "      <th>0</th>\n",
       "      <td>Assignment_316</td>\n",
       "      <td>East</td>\n",
       "      <td>10.00</td>\n",
       "      <td>2</td>\n",
       "    </tr>\n",
       "    <tr>\n",
       "      <th>1</th>\n",
       "      <td>Assignment_2253</td>\n",
       "      <td>North</td>\n",
       "      <td>9.99</td>\n",
       "      <td>1</td>\n",
       "    </tr>\n",
       "    <tr>\n",
       "      <th>2</th>\n",
       "      <td>Assignment_3547</td>\n",
       "      <td>South</td>\n",
       "      <td>10.00</td>\n",
       "      <td>1</td>\n",
       "    </tr>\n",
       "    <tr>\n",
       "      <th>3</th>\n",
       "      <td>Assignment_2794</td>\n",
       "      <td>West</td>\n",
       "      <td>9.99</td>\n",
       "      <td>2</td>\n",
       "    </tr>\n",
       "  </tbody>\n",
       "</table>\n",
       "</div>"
      ],
      "text/plain": [
       "   assignment_name region  impact_score  num_total_donations\n",
       "0   Assignment_316   East         10.00                    2\n",
       "1  Assignment_2253  North          9.99                    1\n",
       "2  Assignment_3547  South         10.00                    1\n",
       "3  Assignment_2794   West          9.99                    2"
      ]
     },
     "execution_count": 47,
     "metadata": {},
     "output_type": "execute_result"
    }
   ],
   "source": [
    "-- top_regional_impact_assignments\n",
    "WITH counting AS (\n",
    "SELECT \n",
    "\tassignment_name,\n",
    "\tregion,\n",
    "\tCOUNT(donation_id) AS num_total_donations\n",
    "FROM assignments a\n",
    "INNER JOIN donations d\n",
    "USING(assignment_id)\n",
    "GROUP BY region, assignment_name\n",
    "),\n",
    "ranking AS (\n",
    "SELECT \n",
    "\tassignment_name,\n",
    "\ta.region,\n",
    "\timpact_score,\n",
    "\tnum_total_donations,\n",
    "\tROW_NUMBER() OVER(PARTITION BY a.region ORDER BY impact_score DESC) AS don_rank\n",
    "FROM assignments a\n",
    "INNER JOIN counting c\n",
    "USING(assignment_name)\n",
    "WHERE num_total_donations >= 1\n",
    ")\n",
    "\n",
    "SELECT \n",
    "\tassignment_name,\n",
    "\tregion,\n",
    "\timpact_score,\n",
    "\tnum_total_donations\n",
    "FROM ranking\n",
    "WHERE don_rank = 1\n",
    ";\n"
   ]
  }
 ],
 "metadata": {
  "colab": {
   "name": "Welcome to DataCamp Workspaces.ipynb",
   "provenance": []
  },
  "kernelspec": {
   "display_name": "Python 3 (ipykernel)",
   "language": "python",
   "name": "python3"
  },
  "language_info": {
   "codemirror_mode": {
    "name": "ipython",
    "version": 3
   },
   "file_extension": ".py",
   "mimetype": "text/x-python",
   "name": "python",
   "nbconvert_exporter": "python",
   "pygments_lexer": "ipython3",
   "version": "3.12.7"
  }
 },
 "nbformat": 4,
 "nbformat_minor": 5
}
